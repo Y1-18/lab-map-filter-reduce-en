{
 "cells": [
  {
   "cell_type": "markdown",
   "metadata": {},
   "source": [
    "# Before your start:\n",
    "- Read the README.md file\n",
    "- Comment as much as you can and use the resources in the README.md file\n",
    "- Happy learning!"
   ]
  },
  {
   "cell_type": "code",
   "execution_count": 130,
   "metadata": {},
   "outputs": [],
   "source": [
    "# Import reduce from functools, numpy and pandas\n",
    "from functools import reduce\n",
    "import numpy\n",
    "import pandas"
   ]
  },
  {
   "cell_type": "markdown",
   "metadata": {},
   "source": [
    "# Challenge 1 - Mapping\n",
    "\n",
    "#### We will use the map function to clean up words in a book.\n",
    "\n",
    "In the following cell, we will read a text file containing the book The Prophet by Khalil Gibran."
   ]
  },
  {
   "cell_type": "code",
   "execution_count": 133,
   "metadata": {},
   "outputs": [],
   "source": [
    "# Run this code:\n",
    "\n",
    "location = \"C:/Users/yasse/Desktop/AI Engineering bootcamp/week1/58585-0.txt\"\n",
    "with open(location, 'r', encoding=\"utf8\") as f:\n",
    "    prophet = f.read().split(' ')"
   ]
  },
  {
   "cell_type": "code",
   "execution_count": 135,
   "metadata": {},
   "outputs": [
    {
     "data": {
      "text/plain": [
       "13637"
      ]
     },
     "execution_count": 135,
     "metadata": {},
     "output_type": "execute_result"
    }
   ],
   "source": [
    "len(prophet)"
   ]
  },
  {
   "cell_type": "markdown",
   "metadata": {},
   "source": [
    "#### Let's remove the first 568 words since they contain information about the book but are not part of the book itself. \n",
    "\n",
    "Do this by removing from `prophet` elements 0 through 567 of the list (you can also do this by keeping elements 568 through the last element)."
   ]
  },
  {
   "cell_type": "code",
   "execution_count": 138,
   "metadata": {},
   "outputs": [],
   "source": [
    "# your code here\n",
    "\n",
    "prophet = prophet[568:]"
   ]
  },
  {
   "cell_type": "markdown",
   "metadata": {},
   "source": [
    "If you look through the words, you will find that many words have a reference attached to them. For example, let's look at words 1 through 10."
   ]
  },
  {
   "cell_type": "code",
   "execution_count": 141,
   "metadata": {},
   "outputs": [
    {
     "data": {
      "text/plain": [
       "['PROPHET\\n\\n|Almustafa,',\n",
       " 'the{7}',\n",
       " 'chosen',\n",
       " 'and',\n",
       " 'the\\nbeloved,',\n",
       " 'who',\n",
       " 'was',\n",
       " 'a',\n",
       " 'dawn',\n",
       " 'unto']"
      ]
     },
     "execution_count": 141,
     "metadata": {},
     "output_type": "execute_result"
    }
   ],
   "source": [
    "# your code here\n",
    "prophet[:10]"
   ]
  },
  {
   "cell_type": "markdown",
   "metadata": {},
   "source": [
    "#### The next step is to create a function that will remove references. \n",
    "\n",
    "We will do this by splitting the string on the `{` character and keeping only the part before this character. Write your function below."
   ]
  },
  {
   "cell_type": "code",
   "execution_count": 144,
   "metadata": {},
   "outputs": [],
   "source": [
    "def reference(x:str) -> str:\n",
    "    '''\n",
    "    Input: A string\n",
    "    Output: The string with references removed\n",
    "    \n",
    "    Example:\n",
    "    Input: 'the{7}'\n",
    "    Output: 'the'\n",
    "    '''\n",
    "    \n",
    "    # your code here\n",
    "    return x.split('{')[0]"
   ]
  },
  {
   "cell_type": "code",
   "execution_count": 150,
   "metadata": {},
   "outputs": [
    {
     "data": {
      "text/plain": [
       "['PROPHET\\n\\n|Almustafa,',\n",
       " 'the',\n",
       " 'chosen',\n",
       " 'and',\n",
       " 'the\\nbeloved,',\n",
       " 'who',\n",
       " 'was',\n",
       " 'a',\n",
       " 'dawn',\n",
       " 'unto',\n",
       " 'his',\n",
       " 'own\\nday,',\n",
       " 'had',\n",
       " 'waited',\n",
       " 'twelve',\n",
       " 'years',\n",
       " 'in',\n",
       " 'the',\n",
       " 'city\\nof',\n",
       " 'Orphalese',\n",
       " 'for',\n",
       " 'his',\n",
       " 'ship',\n",
       " 'that',\n",
       " 'was',\n",
       " 'to\\nreturn',\n",
       " 'and',\n",
       " 'bear',\n",
       " 'him',\n",
       " 'back',\n",
       " 'to',\n",
       " 'the',\n",
       " 'isle',\n",
       " 'of\\nhis',\n",
       " 'birth.\\n\\nAnd',\n",
       " 'in',\n",
       " 'the',\n",
       " 'twelfth',\n",
       " 'year,',\n",
       " 'on',\n",
       " 'the',\n",
       " 'seventh\\nday',\n",
       " 'of',\n",
       " 'Ielool,',\n",
       " 'the',\n",
       " 'month',\n",
       " 'of',\n",
       " 'reaping,',\n",
       " 'he\\nclimbed',\n",
       " 'the']"
      ]
     },
     "execution_count": 150,
     "metadata": {},
     "output_type": "execute_result"
    }
   ],
   "source": [
    "# your code here"
   ]
  },
  {
   "cell_type": "markdown",
   "metadata": {},
   "source": [
    "Now that we have our function, use the `map()` function to apply this function to our book, The Prophet. Return the resulting list to a new list called `prophet_reference`."
   ]
  },
  {
   "cell_type": "code",
   "execution_count": 157,
   "metadata": {},
   "outputs": [
    {
     "data": {
      "text/plain": [
       "['PROPHET\\n\\n|Almustafa,',\n",
       " 'the',\n",
       " 'chosen',\n",
       " 'and',\n",
       " 'the\\nbeloved,',\n",
       " 'who',\n",
       " 'was',\n",
       " 'a',\n",
       " 'dawn',\n",
       " 'unto']"
      ]
     },
     "execution_count": 157,
     "metadata": {},
     "output_type": "execute_result"
    }
   ],
   "source": [
    "# your code here\n",
    "prophet_reference = list(map(reference, prophet))\n",
    "prophet_reference[:10]"
   ]
  },
  {
   "cell_type": "markdown",
   "metadata": {},
   "source": [
    "Another thing you may have noticed is that some words contain a line break. Let's write a function to split those words. Our function will return the string split on the character `\\n`. Write your function in the cell below."
   ]
  },
  {
   "cell_type": "code",
   "execution_count": 160,
   "metadata": {},
   "outputs": [],
   "source": [
    "def line_break(x):\n",
    "    '''\n",
    "    Input: A string\n",
    "    Output: A list of strings split on the line break (\\n) character\n",
    "        \n",
    "    Example:\n",
    "    Input: 'the\\nbeloved'\n",
    "    Output: ['the', 'beloved']\n",
    "    '''\n",
    "    return x.split('\\n')\n",
    "    # your code here"
   ]
  },
  {
   "cell_type": "markdown",
   "metadata": {},
   "source": [
    "Apply the `line_break` function to the `prophet_reference` list. Name the new list `prophet_line`."
   ]
  },
  {
   "cell_type": "code",
   "execution_count": 165,
   "metadata": {
    "scrolled": true
   },
   "outputs": [
    {
     "data": {
      "text/plain": [
       "[['PROPHET', '', '|Almustafa,'],\n",
       " ['the'],\n",
       " ['chosen'],\n",
       " ['and'],\n",
       " ['the', 'beloved,'],\n",
       " ['who'],\n",
       " ['was'],\n",
       " ['a'],\n",
       " ['dawn'],\n",
       " ['unto'],\n",
       " ['his'],\n",
       " ['own', 'day,'],\n",
       " ['had'],\n",
       " ['waited'],\n",
       " ['twelve'],\n",
       " ['years'],\n",
       " ['in'],\n",
       " ['the'],\n",
       " ['city', 'of'],\n",
       " ['Orphalese'],\n",
       " ['for'],\n",
       " ['his'],\n",
       " ['ship'],\n",
       " ['that'],\n",
       " ['was'],\n",
       " ['to', 'return'],\n",
       " ['and'],\n",
       " ['bear'],\n",
       " ['him'],\n",
       " ['back'],\n",
       " ['to'],\n",
       " ['the'],\n",
       " ['isle'],\n",
       " ['of', 'his'],\n",
       " ['birth.', '', 'And'],\n",
       " ['in'],\n",
       " ['the'],\n",
       " ['twelfth'],\n",
       " ['year,'],\n",
       " ['on'],\n",
       " ['the'],\n",
       " ['seventh', 'day'],\n",
       " ['of'],\n",
       " ['Ielool,'],\n",
       " ['the'],\n",
       " ['month'],\n",
       " ['of'],\n",
       " ['reaping,'],\n",
       " ['he', 'climbed'],\n",
       " ['the'],\n",
       " ['hill'],\n",
       " ['without'],\n",
       " ['the'],\n",
       " ['city'],\n",
       " ['walls', 'and'],\n",
       " ['looked'],\n",
       " ['seaward;'],\n",
       " ['and'],\n",
       " ['he'],\n",
       " ['beheld'],\n",
       " ['his', 'ship'],\n",
       " ['coming'],\n",
       " ['with'],\n",
       " ['the'],\n",
       " ['mist.', '', 'Then'],\n",
       " ['the'],\n",
       " ['gates'],\n",
       " ['of'],\n",
       " ['his'],\n",
       " ['heart'],\n",
       " ['were'],\n",
       " ['flung', 'open,'],\n",
       " ['and'],\n",
       " ['his'],\n",
       " ['joy'],\n",
       " ['flew'],\n",
       " ['far'],\n",
       " ['over'],\n",
       " ['the'],\n",
       " ['sea.', 'And'],\n",
       " ['he'],\n",
       " ['closed'],\n",
       " ['his'],\n",
       " ['eyes'],\n",
       " ['and'],\n",
       " ['prayed'],\n",
       " ['in'],\n",
       " ['the', 'silences'],\n",
       " ['of'],\n",
       " ['his'],\n",
       " ['soul.', '', '*****', '', 'But'],\n",
       " ['as'],\n",
       " ['he'],\n",
       " ['descended'],\n",
       " ['the'],\n",
       " ['hill,'],\n",
       " ['a'],\n",
       " ['sadness', 'came'],\n",
       " ['upon'],\n",
       " ['him,']]"
      ]
     },
     "execution_count": 165,
     "metadata": {},
     "output_type": "execute_result"
    }
   ],
   "source": [
    "# your code here\n",
    "prophet_line = list(map(line_break, prophet_reference))\n",
    "prophet_line[:100]"
   ]
  },
  {
   "cell_type": "markdown",
   "metadata": {},
   "source": [
    "If you look at the elements of `prophet_line`, you will see that the function returned lists and not strings. Our list is now a list of lists. Flatten the list using list comprehension. Assign this new list to `prophet_flat`."
   ]
  },
  {
   "cell_type": "code",
   "execution_count": 169,
   "metadata": {},
   "outputs": [
    {
     "data": {
      "text/plain": [
       "['PROPHET',\n",
       " '',\n",
       " '|Almustafa,',\n",
       " 'the',\n",
       " 'chosen',\n",
       " 'and',\n",
       " 'the',\n",
       " 'beloved,',\n",
       " 'who',\n",
       " 'was',\n",
       " 'a',\n",
       " 'dawn',\n",
       " 'unto',\n",
       " 'his',\n",
       " 'own',\n",
       " 'day,',\n",
       " 'had',\n",
       " 'waited',\n",
       " 'twelve',\n",
       " 'years',\n",
       " 'in',\n",
       " 'the',\n",
       " 'city',\n",
       " 'of',\n",
       " 'Orphalese',\n",
       " 'for',\n",
       " 'his',\n",
       " 'ship',\n",
       " 'that',\n",
       " 'was',\n",
       " 'to',\n",
       " 'return',\n",
       " 'and',\n",
       " 'bear',\n",
       " 'him',\n",
       " 'back',\n",
       " 'to',\n",
       " 'the',\n",
       " 'isle',\n",
       " 'of',\n",
       " 'his',\n",
       " 'birth.',\n",
       " '',\n",
       " 'And',\n",
       " 'in',\n",
       " 'the',\n",
       " 'twelfth',\n",
       " 'year,',\n",
       " 'on',\n",
       " 'the',\n",
       " 'seventh',\n",
       " 'day',\n",
       " 'of',\n",
       " 'Ielool,',\n",
       " 'the',\n",
       " 'month',\n",
       " 'of',\n",
       " 'reaping,',\n",
       " 'he',\n",
       " 'climbed',\n",
       " 'the',\n",
       " 'hill',\n",
       " 'without',\n",
       " 'the',\n",
       " 'city',\n",
       " 'walls',\n",
       " 'and',\n",
       " 'looked',\n",
       " 'seaward;',\n",
       " 'and',\n",
       " 'he',\n",
       " 'beheld',\n",
       " 'his',\n",
       " 'ship',\n",
       " 'coming',\n",
       " 'with',\n",
       " 'the',\n",
       " 'mist.',\n",
       " '',\n",
       " 'Then',\n",
       " 'the',\n",
       " 'gates',\n",
       " 'of',\n",
       " 'his',\n",
       " 'heart',\n",
       " 'were',\n",
       " 'flung',\n",
       " 'open,',\n",
       " 'and',\n",
       " 'his',\n",
       " 'joy',\n",
       " 'flew',\n",
       " 'far',\n",
       " 'over',\n",
       " 'the',\n",
       " 'sea.',\n",
       " 'And',\n",
       " 'he',\n",
       " 'closed',\n",
       " 'his']"
      ]
     },
     "execution_count": 169,
     "metadata": {},
     "output_type": "execute_result"
    }
   ],
   "source": [
    "prophet_flat = [i for sub in prophet_line for i in sub]\n",
    "prophet_flat[:100]"
   ]
  },
  {
   "cell_type": "code",
   "execution_count": null,
   "metadata": {},
   "outputs": [],
   "source": [
    "# your code here"
   ]
  },
  {
   "cell_type": "markdown",
   "metadata": {},
   "source": [
    "# Challenge 2 - Filtering\n",
    "\n",
    "When printing out a few words from the book, we see that there are words that we may not want to keep if we choose to analyze the corpus of text. Below is a list of words that we would like to get rid of. Create a function that will return false if it contains a word from the list of words specified and true otherwise."
   ]
  },
  {
   "cell_type": "code",
   "execution_count": 171,
   "metadata": {},
   "outputs": [],
   "source": [
    "def word_filter(x):\n",
    "    '''\n",
    "    Input: A string\n",
    "    Output: True if the word is not in the specified list \n",
    "    and False if the word is in the list.\n",
    "        \n",
    "    Example:\n",
    "    word list = ['and', 'the']\n",
    "    Input: 'and'\n",
    "    Output: False\n",
    "    \n",
    "    Input: 'John'\n",
    "    Output: True\n",
    "    '''\n",
    "    \n",
    "    word_list = ['and', 'the', 'a', 'an']\n",
    "    \n",
    "    # your code here\n",
    "    return  x not in word_list\n",
    "    "
   ]
  },
  {
   "cell_type": "markdown",
   "metadata": {},
   "source": [
    "Use the `filter()` function to filter out the words speficied in the `word_filter()` function. Store the filtered list in the variable `prophet_filter`."
   ]
  },
  {
   "cell_type": "code",
   "execution_count": 176,
   "metadata": {
    "scrolled": true
   },
   "outputs": [
    {
     "data": {
      "text/plain": [
       "['PROPHET',\n",
       " '',\n",
       " '|Almustafa,',\n",
       " 'chosen',\n",
       " 'beloved,',\n",
       " 'who',\n",
       " 'was',\n",
       " 'dawn',\n",
       " 'unto',\n",
       " 'his',\n",
       " 'own',\n",
       " 'day,',\n",
       " 'had',\n",
       " 'waited',\n",
       " 'twelve',\n",
       " 'years',\n",
       " 'in',\n",
       " 'city',\n",
       " 'of',\n",
       " 'Orphalese',\n",
       " 'for',\n",
       " 'his',\n",
       " 'ship',\n",
       " 'that',\n",
       " 'was',\n",
       " 'to',\n",
       " 'return',\n",
       " 'bear',\n",
       " 'him',\n",
       " 'back',\n",
       " 'to',\n",
       " 'isle',\n",
       " 'of',\n",
       " 'his',\n",
       " 'birth.',\n",
       " '',\n",
       " 'And',\n",
       " 'in',\n",
       " 'twelfth',\n",
       " 'year,',\n",
       " 'on',\n",
       " 'seventh',\n",
       " 'day',\n",
       " 'of',\n",
       " 'Ielool,',\n",
       " 'month',\n",
       " 'of',\n",
       " 'reaping,',\n",
       " 'he',\n",
       " 'climbed',\n",
       " 'hill',\n",
       " 'without',\n",
       " 'city',\n",
       " 'walls',\n",
       " 'looked',\n",
       " 'seaward;',\n",
       " 'he',\n",
       " 'beheld',\n",
       " 'his',\n",
       " 'ship',\n",
       " 'coming',\n",
       " 'with',\n",
       " 'mist.',\n",
       " '',\n",
       " 'Then',\n",
       " 'gates',\n",
       " 'of',\n",
       " 'his',\n",
       " 'heart',\n",
       " 'were',\n",
       " 'flung',\n",
       " 'open,',\n",
       " 'his',\n",
       " 'joy',\n",
       " 'flew',\n",
       " 'far',\n",
       " 'over',\n",
       " 'sea.',\n",
       " 'And',\n",
       " 'he',\n",
       " 'closed',\n",
       " 'his',\n",
       " 'eyes',\n",
       " 'prayed',\n",
       " 'in',\n",
       " 'silences',\n",
       " 'of',\n",
       " 'his',\n",
       " 'soul.',\n",
       " '',\n",
       " '*****',\n",
       " '',\n",
       " 'But',\n",
       " 'as',\n",
       " 'he',\n",
       " 'descended',\n",
       " 'hill,',\n",
       " 'sadness',\n",
       " 'came',\n",
       " 'upon']"
      ]
     },
     "execution_count": 176,
     "metadata": {},
     "output_type": "execute_result"
    }
   ],
   "source": [
    "# your code here\n",
    "prophet_filter = list(filter(word_filter, prophet_flat))\n",
    "prophet_filter[:100]"
   ]
  },
  {
   "cell_type": "markdown",
   "metadata": {},
   "source": [
    "# Bonus Challenge\n",
    "\n",
    "Rewrite the `word_filter` function above to not be case sensitive."
   ]
  },
  {
   "cell_type": "code",
   "execution_count": 179,
   "metadata": {},
   "outputs": [],
   "source": [
    "def word_filter_case(x):\n",
    "   \n",
    "    word_list = ['and', 'the', 'a', 'an']\n",
    "    \n",
    "    # your code here\n",
    "    return x.lower() not in [word.lower() for word in word_list]"
   ]
  },
  {
   "cell_type": "markdown",
   "metadata": {},
   "source": [
    "# Challenge 3 - Reducing\n",
    "\n",
    "#### Now that we have significantly cleaned up our text corpus, let's use the `reduce()` function to put the words back together into one long string separated by spaces. \n",
    "\n",
    "We will start by writing a function that takes two strings and concatenates them together with a space between the two strings."
   ]
  },
  {
   "cell_type": "code",
   "execution_count": 182,
   "metadata": {},
   "outputs": [],
   "source": [
    "def concat_space(a, b):\n",
    "    '''\n",
    "    Input:Two strings\n",
    "    Output: A single string separated by a space\n",
    "        \n",
    "    Example:\n",
    "    Input: 'John', 'Smith'\n",
    "    Output: 'John Smith'\n",
    "    '''\n",
    "    \n",
    "    # your code here\n",
    "    return a + \" \" + b"
   ]
  },
  {
   "cell_type": "code",
   "execution_count": 186,
   "metadata": {
    "scrolled": true
   },
   "outputs": [
    {
     "data": {
      "text/plain": [
       "'John Smith'"
      ]
     },
     "execution_count": 186,
     "metadata": {},
     "output_type": "execute_result"
    }
   ],
   "source": [
    "# your code here\n",
    "concat_space('John', 'Smith')"
   ]
  },
  {
   "cell_type": "markdown",
   "metadata": {},
   "source": [
    "Use the function above to reduce the text corpus in the list `prophet_filter` into a single string. Assign this new string to the variable `prophet_string`."
   ]
  },
  {
   "cell_type": "code",
   "execution_count": 189,
   "metadata": {},
   "outputs": [
    {
     "data": {
      "text/plain": [
       "'PROPHET  |Almustafa, chosen beloved, who was dawn unto his own day, had waited twelve years in city of Orphalese for his ship that was to return bear him back to isle of his birth.  And in twelfth yea'"
      ]
     },
     "execution_count": 189,
     "metadata": {},
     "output_type": "execute_result"
    }
   ],
   "source": [
    "# your code here\n",
    "prophet_string = reduce(concat_space, prophet_filter)\n",
    "prophet_string[:200]"
   ]
  },
  {
   "cell_type": "code",
   "execution_count": null,
   "metadata": {},
   "outputs": [],
   "source": []
  }
 ],
 "metadata": {
  "kernelspec": {
   "display_name": "Python [conda env:base] *",
   "language": "python",
   "name": "conda-base-py"
  },
  "language_info": {
   "codemirror_mode": {
    "name": "ipython",
    "version": 3
   },
   "file_extension": ".py",
   "mimetype": "text/x-python",
   "name": "python",
   "nbconvert_exporter": "python",
   "pygments_lexer": "ipython3",
   "version": "3.12.7"
  }
 },
 "nbformat": 4,
 "nbformat_minor": 4
}
